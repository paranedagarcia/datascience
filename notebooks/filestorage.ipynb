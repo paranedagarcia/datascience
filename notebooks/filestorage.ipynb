{
    "cells": [
        {
            "cell_type": "code",
            "execution_count": 5,
            "metadata": {
                "azdata_cell_guid": "549326c8-2725-4580-b435-ba21ddd10b8c",
                "language": "python"
            },
            "outputs": [],
            "source": [
                "# caga de archivos CSV sobre Azure storage\n",
                "from ftplib import FTP\n",
                "from hdbcli import dbapi\n",
                "import pyodbc\n",
                "import os.path\n",
                "import os\n",
                "import pandas as pd\n",
                "import logging\n",
                "from azure.storage.blob import BlobClient, BlobServiceClient, ContainerClient\n",
                "#from azure.storage.blob.aio import BlobClient\n",
                "\n",
                "connect_str = os.environ[\"AZURE_STORAGE_CONNECTION_STRING\"]\n",
                "\n",
                "# conexiones a Azure\n",
                "def init_SQL():\n",
                "    server = os.environ[\"sql_host\"]\n",
                "    database = os.environ[\"sql_db\"] \n",
                "    username = os.environ[\"sql_user\"]\n",
                "    password = os.environ[\"sql_pwd\"]\n",
                "    connSQL = pyodbc.connect('DRIVER={ODBC Driver 17 for SQL Server};SERVER='+server+';DATABASE='+database+';AUTOCOMMIT=FALSE;UID='+username+';PWD='+ password)\n",
                "    return connSQL\n",
                "    \n",
                "def init_FTP():\n",
                "    Host = os.environ[\"ftp_host\"]\n",
                "    Puerto = os.environ[\"ftp_port\"]\n",
                "    Cuenta = os.environ[\"ftp_cuenta\"]\n",
                "    Pass = os.environ[\"ftp_pwd\"]\n",
                "    connFTP = [Host, Puerto, Cuenta, Pass]\n",
                "    return connFTP"
            ]
        },
        {
            "attachments": {},
            "cell_type": "markdown",
            "metadata": {
                "azdata_cell_guid": "414913bd-2271-4d87-8f74-1db0e7d9cfdb",
                "language": "python"
            },
            "source": [
                "Funcion FTP para cargar desde sitio FTP hacia un container 'cubit' en Storage Azure"
            ]
        },
        {
            "cell_type": "code",
            "execution_count": 2,
            "metadata": {
                "azdata_cell_guid": "262e1ab9-fea8-47a8-9e8a-db14586e4aad",
                "language": "python"
            },
            "outputs": [],
            "source": [
                "# FTP Desde cubit\n",
                "def ftp2blob():\n",
                "    connFTP = init_FTP()\n",
                "\n",
                "    ftp = FTP()\n",
                "    ftp.connect(Host, Puerto, timeout=1000)\n",
                "    ftp.login(user=Cuenta, passwd=Pass)\n",
                "\n",
                "    files = ['GESTION.csv' ]\n",
                "    logging.info('Se inicia descarga desde FTP')\n",
                "\n",
                "    for j in range(len(files)):\n",
                "        #filename = files[j]\n",
                "        filename = \"midata.csv\"\n",
                "        try:\n",
                "            local_filename = os.path.join(r\"C:/Users/paranedag/Downloads/temporal\", filename)\n",
                "            lf = open(local_filename, \"wb\")\n",
                "            ftp.retrbinary(\"RETR \" + filename, lf.write)\n",
                "            lf.close()\n",
                "\n",
                "            blob = BlobClient.from_connection_string(conn_str=connect_str, container_name='almacen', blob_name=filename)\n",
                "            with open(file=local_filename, mode=\"rb\") as file:\n",
                "                blob.upload_blob(file, overwrite=True)\n",
                "\n",
                "            logging.info(\"LISTA DESCARGA \"+filename)\n",
                "        except ValueError:\n",
                "            logging.info(\"Error \" + ValueError)\n",
                "    logging.info('Término de descarga desde FTP')"
            ]
        },
        {
            "cell_type": "code",
            "execution_count": 6,
            "metadata": {
                "azdata_cell_guid": "d5fe3a00-bcc4-45d2-8e7f-dd1aca89c8be",
                "language": "python"
            },
            "outputs": [],
            "source": [
                "# \n",
                "def azure_upload_df(container=None, dataframe=None, filename=None):\n",
                "    if all([container, len(dataframe), filename]):\n",
                "        file_path = f\"{os.getenv('OUTPUT')}\"\n",
                "        upload_file_path = os.path.join(file_path, f\"{filename}.csv\")\n",
                "        #connect_str = os.getenv(\"AZURE_STORAGE_CONNECTION_STRING\")\n",
                "        blob_service_client = BlobServiceClient.from_connection_string(connect_str)\n",
                "        blob_client = blob_service_client.get_blob_client(\n",
                "            container=container, blob=upload_file_path\n",
                "        )\n",
                "        try:\n",
                "            output = dataframe.to_csv(index=False, encoding=\"utf-8\", sep=\";\")\n",
                "        except Exception as e:\n",
                "            pass\n",
                "        try:\n",
                "            blob_client.upload_blob(output, blob_type=\"BlockBlob\")\n",
                "        except Exception as e:\n",
                "            pass\n",
                "\n",
                "def azure_download_csv_to_df(url=None):\n",
                "    if url:\n",
                "        #connect_str = os.getenv(\"AZURE_STORAGE_CONNECTION_STRING\")\n",
                "        blob_service_client = BlobServiceClient.from_connection_string(connect_str)\n",
                "        path = urlparse(url).path\n",
                "        path = path.split(\"/\")\n",
                "        container = path[1]\n",
                "        blob = '/'.join(path[2:])\n",
                "        blob_client = blob_service_client.get_blob_client(container=container, blob=blob)\n",
                "        with BytesIO() as input_blob:\n",
                "            blob_client.download_blob().download_to_stream(input_blob)\n",
                "            input_blob.seek(0)\n",
                "            df = pd.read_csv(input_blob)\n",
                "        return df\n",
                "    else:\n",
                "        return None"
            ]
        },
        {
            "cell_type": "code",
            "execution_count": 8,
            "metadata": {
                "azdata_cell_guid": "e8fcaf95-a349-4acd-bd71-a7ce27162e15",
                "language": "python",
                "tags": []
            },
            "outputs": [],
            "source": [
                "# dataframe\n",
                "\n",
                "azure_upload_df(container='almacen', dataframe=df, filename='registros')"
            ]
        },
        {
            "cell_type": "code",
            "execution_count": 3,
            "metadata": {
                "azdata_cell_guid": "0591e0fd-9deb-477a-828b-484599972612",
                "language": "python"
            },
            "outputs": [],
            "source": [
                "# ejecutar FTP\n",
                "ftp2blob()"
            ]
        },
        {
            "cell_type": "code",
            "execution_count": 27,
            "metadata": {
                "azdata_cell_guid": "15295349-609a-4bf8-b06f-64a130ced972",
                "language": "python",
                "tags": []
            },
            "outputs": [
                {
                    "name": "stderr",
                    "output_type": "stream",
                    "text": [
                        "C:\\Users\\paranedag\\AppData\\Local\\Temp\\ipykernel_3592\\434729430.py:6: RuntimeWarning: coroutine 'BlobClient.exists' was never awaited\n",
                        "  exists = blob.exists()\n",
                        "RuntimeWarning: Enable tracemalloc to get the object allocation traceback\n",
                        "Unclosed client session\n",
                        "client_session: <aiohttp.client.ClientSession object at 0x000001E0A53A7D30>\n"
                    ]
                }
            ],
            "source": [
                "# carga de archivos dentro de Azure Storage\n",
                "filename = \"GESTION.csv\"\n",
                "mifile = os.path.join(r\"C:/Users/paranedag/Downloads/almacen/\", filename)\n",
                "\n",
                "blob = BlobClient.from_connection_string(conn_str=connect_str, container_name=\"almacen\", blob_name=filename)\n",
                "exists = blob.exists()\n",
                "\n",
                "#blob_service_client = BlobServiceClient.from_connection_string(connect_str)\n",
                "#blob = blob_service_client.get_blob_client(container=\"cubit\", blob=filename)\n",
                "\n",
                "with open(mifile, \"rb\") as file:\n",
                "    await blob.upload_blob(file, overwrite=True)\n",
                "\n"
            ]
        }
    ],
    "metadata": {
        "kernelspec": {
            "display_name": "Python 3 (ipykernel)",
            "language": "python",
            "name": "python3"
        },
        "language_info": {
            "codemirror_mode": {
                "name": "ipython",
                "version": 3
            },
            "file_extension": ".py",
            "mimetype": "text/x-python",
            "name": "python",
            "nbconvert_exporter": "python",
            "pygments_lexer": "ipython3",
            "version": "3.10.10"
        }
    },
    "nbformat": 4,
    "nbformat_minor": 2
}
