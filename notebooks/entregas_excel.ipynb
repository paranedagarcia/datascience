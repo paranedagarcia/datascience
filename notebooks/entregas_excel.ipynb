{
    "cells": [
        {
            "cell_type": "markdown",
            "metadata": {},
            "source": [
                "Genera una planilla de excel con los resultados de lactura de datos desde una base de datos y envío del resultado como archivo vía correo."
            ]
        },
        {
            "cell_type": "code",
            "execution_count": 16,
            "metadata": {
                "azdata_cell_guid": "ac04dd06-d196-4dd6-b146-d91d91c3c679",
                "language": "python"
            },
            "outputs": [],
            "source": [
                "'''\n",
                " vista_entregas_cloud, enviando ese archivo mediante correo electronico\n",
                "Autor: Patricio Araneda\n",
                "Fecha: 2023-12-31\n",
                "'''\n",
                "#librerias\n",
                "import os   \n",
                "import pandas as pd\n",
                "import pyodbc\n",
                "import sqlalchemy\n",
                "from sqlalchemy import create_engine, text, select\n",
                "import smtplib\n",
                "from email.mime.multipart import MIMEMultipart\n",
                "from email.mime.base import MIMEBase\n",
                "from email import encoders\n",
                "from openpyxl import Workbook\n"
            ]
        },
        {
            "cell_type": "code",
            "execution_count": 38,
            "metadata": {
                "azdata_cell_guid": "e6e6d473-23a1-4832-afc4-a458c2b8bb73",
                "language": "python"
            },
            "outputs": [],
            "source": [
                "# Azure connection\n",
                "server = os.environ[\"sql_host\"]\n",
                "database = os.environ[\"sql_db\"] \n",
                "username = os.environ[\"sql_user\"]\n",
                "password = os.environ[\"sql_pwd\"]\n",
                "\n",
                "conn_str = 'DRIVER={ODBC Driver 17 for SQL Server};SERVER='+server+';DATABASE='+database+';AUTOCOMMIT=FALSE;UID='+username+';PWD='+ password\n",
                "engine = create_engine(f\"mssql+pyodbc:///?odbc_connect={conn_str}\", fast_executemany=True)\n",
                "\n",
                "# archivo resultante\n",
                "filename = 'entregas.xlsx'"
            ]
        },
        {
            "cell_type": "code",
            "execution_count": null,
            "metadata": {
                "azdata_cell_guid": "3da7fc69-8a40-4eb6-97af-861b90f9e157",
                "language": "python"
            },
            "outputs": [],
            "source": [
                "# seleccion de datos de la base de datos.\n",
                "sqldf = pd.read_sql(text(\"select * from vistadedatos\"), engine)\n",
                "data = pd.DataFrame(sqldf)\n",
                "data.head()"
            ]
        },
        {
            "cell_type": "code",
            "execution_count": 40,
            "metadata": {
                "azdata_cell_guid": "9a73bcd9-49d4-4f0f-9d77-aa9ba511220e",
                "language": "python"
            },
            "outputs": [],
            "source": [
                "# sen email with excel file\n",
                "\n",
                "# Convert DataFrame to Excel\n",
                "data.to_excel(filename, index=False)\n"
            ]
        },
        {
            "cell_type": "code",
            "execution_count": 41,
            "metadata": {
                "azdata_cell_guid": "9f2f7f08-d6af-4fb8-b7c4-aee31b2604d3",
                "language": "python"
            },
            "outputs": [
                {
                    "data": {
                        "text/plain": [
                            "(221,\n",
                            " b'2.0.0 closing connection d21-20020a17090abf9500b0028c2b2b76c0sm15482000pjs.22 - gsmtp')"
                        ]
                    },
                    "execution_count": 41,
                    "metadata": {},
                    "output_type": "execute_result"
                }
            ],
            "source": [
                "# Create email message\n",
                "msg = MIMEMultipart()\n",
                "\n",
                "msg['From'] = 'paranedagarcia@gmail.com'\n",
                "msg['To'] = 'paranedagarcia@gmail.com, patricio@aranedagarcia.cl'\n",
                "msg['Subject'] = 'Unidades a entregar'\n",
                "\n",
                "# Attach the Excel file\n",
                "part = MIMEBase('application', \"octet-stream\")\n",
                "part.set_payload(open(filename, \"rb\").read())\n",
                "encoders.encode_base64(part)\n",
                "part.add_header('Content-Disposition', 'attachment', filename=filename)  # or whatever the filename you want to send\n",
                "msg.attach(part)\n",
                "\n",
                "# Send the email\n",
                "smtp = smtplib.SMTP('smtp.gmail.com', 587)\n",
                "smtp.starttls()\n",
                "smtp.login('paranedagarcia@gmail.com', 'clavecorreo')\n",
                "smtp.send_message(msg)\n",
                "smtp.quit()"
            ]
        }
    ],
    "metadata": {
        "kernelspec": {
            "display_name": "Python 3",
            "language": "python",
            "name": "python3"
        },
        "language_info": {
            "codemirror_mode": {
                "name": "ipython",
                "version": 3
            },
            "file_extension": ".py",
            "mimetype": "text/x-python",
            "name": "python",
            "nbconvert_exporter": "python",
            "pygments_lexer": "ipython3",
            "version": "3.8.10"
        }
    },
    "nbformat": 4,
    "nbformat_minor": 2
}
