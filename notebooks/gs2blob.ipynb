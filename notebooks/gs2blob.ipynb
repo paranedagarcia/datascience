{
    "cells": [
        {
            "cell_type": "code",
            "execution_count": null,
            "metadata": {
                "azdata_cell_guid": "c79fd0d5-95bd-4a6c-83b9-09d2e3001422",
                "language": "python"
            },
            "outputs": [],
            "source": [
                "\n",
                "import os.path\n",
                "from pathlib import Path\n",
                "from googleapiclient.discovery import build\n",
                "from google.oauth2.credentials import Credentials\n",
                "from google.oauth2 import service_account\n",
                "import math\n",
                "import pandas as pd\n",
                "\n",
                "base_path = \"G:\\\\Mi unidad\\\\AZURE-DW\\\\keys.json\"\n",
                "path_dir = Path(base_path)\n",
                "SERVICE_ACCOUNT_FILE = path_dir\n",
                "SCOPES = ['https://www.googleapis.com/auth/spreadsheets.readonly']\n",
                "creds = None\n",
                "creds = service_account.Credentials.from_service_account_file(\n",
                "            SERVICE_ACCOUNT_FILE, scopes=SCOPES)\n",
                "SAMPLE_SPREADSHEET_ID = 'el id de la hoja de calculo'\n",
                "gs_name = \"Roles\"\n",
                "service = build('sheets', 'v4', credentials=creds)\n",
                "sheet = service.spreadsheets()\n",
                "\n",
                "result = sheet.values().get(spreadsheetId=SAMPLE_SPREADSHEET_ID,range=\"Roles\").execute()#data = result.get('values', [])\n",
                "\n",
                "data = result.get('values')\n",
                "datos = pd.DataFrame(data)\n",
                "\n",
                "datos.head()"
            ]
        }
    ],
    "metadata": {
        "kernelspec": {
            "display_name": "Python 3 (ipykernel)",
            "language": "python",
            "name": "python3"
        },
        "language_info": {
            "codemirror_mode": {
                "name": "ipython",
                "version": 3
            },
            "file_extension": ".py",
            "mimetype": "text/x-python",
            "name": "python",
            "nbconvert_exporter": "python",
            "pygments_lexer": "ipython3",
            "version": "3.10.10"
        }
    },
    "nbformat": 4,
    "nbformat_minor": 2
}
