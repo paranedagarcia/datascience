{
    "cells": [
        {
            "cell_type": "code",
            "execution_count": 27,
            "metadata": {
                "azdata_cell_guid": "a7c65f90-45a1-4e45-89eb-4a0b770b11c0",
                "language": "python",
                "tags": []
            },
            "outputs": [],
            "source": [
                "''' \n",
                "negocios_csv.ipynb\n",
                "# captura de un archivo desde un contenedor en Azure Storage como formato csv y cargarlo en SQL Server\n",
                "Autor: Patricio Araneda\n",
                "Fecha: 2023-09-25\n",
                "'''\n",
                "import os\n",
                "import io\n",
                "from pathlib import Path\n",
                "from urllib.parse import urlparse\n",
                "import pyodbc\n",
                "import sqlalchemy as sal\n",
                "from sqlalchemy import text\n",
                "from sqlalchemy import create_engine\n",
                "from azure.storage.blob import BlobClient\n",
                "from azure.storage.blob import BlobServiceClient\n",
                "import pandas as pd\n",
                "from pd_to_mssql import to_sql\n",
                "\n",
                "connect_str = os.environ[\"AZURE_STORAGE_CONNECTION_STRING\"]\n"
            ]
        },
        {
            "cell_type": "code",
            "execution_count": 31,
            "metadata": {
                "azdata_cell_guid": "4dc058c2-530a-410d-820b-62dc509e8d80",
                "language": "python"
            },
            "outputs": [],
            "source": [
                "#\n",
                "def azure_download_csv_to_df(url=None):\n",
                "    if url:\n",
                "        blob_service_client = BlobServiceClient.from_connection_string(connect_str)\n",
                "        path = urlparse(url).path\n",
                "        path = path.split(\"/\")\n",
                "        container = path[1]\n",
                "        blob = '/'.join(path[2:])\n",
                "        blob_client = blob_service_client.get_blob_client(container=container, blob=blob)\n",
                "        with io.BytesIO() as input_blob:\n",
                "            blob_client.download_blob().download_to_stream(input_blob)\n",
                "            input_blob.seek(0)\n",
                "            df = pd.read_csv(input_blob, sep=\";\")\n",
                "        return df\n",
                "    else:\n",
                "        return None"
            ]
        },
        {
            "cell_type": "code",
            "execution_count": null,
            "metadata": {
                "azdata_cell_guid": "193e0eb7-4766-4676-988f-a13a4afda1eb",
                "language": "python"
            },
            "outputs": [],
            "source": [
                "# df from BLOB\n",
                "df = azure_download_csv_to_df(\"url en azure blob storage.csv\")\n",
                "df.drop(index=0, inplace=True)\n",
                "df= pd.DataFrame(df)\n",
                "df.head()"
            ]
        },
        {
            "cell_type": "code",
            "execution_count": null,
            "metadata": {
                "azdata_cell_guid": "5bc56654-1ce1-4739-b3cc-1b78564bd66f",
                "language": "python"
            },
            "outputs": [],
            "source": [
                "blob = BlobClient.from_connection_string(conn_str=connect_str, container_name=\"cubit\", blob_name=\"filename.csv\")\n",
                "\n",
                "with open(\"./negocios.csv\", \"wb\") as my_blob:\n",
                "    blob_data = blob.download_blob()\n",
                "    blob_data.readinto(my_blob)\n",
                "data = pd.read_csv(\"./negocios.csv\", sep=\";\")\n",
                "data.drop(index=0, inplace=True)\n",
                "df.head()"
            ]
        },
        {
            "cell_type": "code",
            "execution_count": null,
            "metadata": {
                "azdata_cell_guid": "8fc52878-ac36-4304-9d0a-c53701a5b7dc",
                "language": "python",
                "tags": []
            },
            "outputs": [],
            "source": [
                "# acceso a FTP\n",
                "data = pd.read_csv(\"file.csv\", sep=\";\")\n",
                "data.drop(index=0, inplace=True)\n",
                "#data.to_csv('negocios.csv', index=False, sep=\";\", encoding=\"utf-8\")\n",
                "data.describe()"
            ]
        },
        {
            "cell_type": "code",
            "execution_count": null,
            "metadata": {
                "azdata_cell_guid": "e3097546-3084-4cce-8123-5567e7914e85",
                "language": "python"
            },
            "outputs": [],
            "source": [
                "#carga de datos en tabla DW\n",
                "server = os.environ[\"sql_host\"]\n",
                "database = os.environ[\"sql_db\"] \n",
                "username = os.environ[\"sql_user\"]\n",
                "password = os.environ[\"sql_pwd\"]\n",
                "\n",
                "conn_str = 'DRIVER={ODBC Driver 17 for SQL Server};SERVER='+server+';DATABASE='+database+';AUTOCOMMIT=FALSE;UID='+username+';PWD='+ password\n",
                "\n",
                "to_sql(data, 'tablename', conn_str, schema='dbo', index=True, replace=True, chunk_size=1000, thread_count=5, ignore_truncation=False, ignore_missing=False)\n",
                "# ODBC Driver 17 for SQL Server"
            ]
        }
    ],
    "metadata": {
        "kernelspec": {
            "display_name": "Python 3",
            "language": "python",
            "name": "python3"
        },
        "language_info": {
            "codemirror_mode": {
                "name": "ipython",
                "version": 3
            },
            "file_extension": ".py",
            "mimetype": "text/x-python",
            "name": "python",
            "nbconvert_exporter": "python",
            "pygments_lexer": "ipython3",
            "version": "3.11.5"
        }
    },
    "nbformat": 4,
    "nbformat_minor": 2
}
